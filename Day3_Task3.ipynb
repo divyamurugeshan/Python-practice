{
 "cells": [
  {
   "cell_type": "code",
   "execution_count": 19,
   "metadata": {},
   "outputs": [
    {
     "name": "stdin",
     "output_type": "stream",
     "text": [
      "Enter your name:  Divya\n",
      "Enter your date of birth (DD-MM-YYYY):  08-02-2001\n",
      "Enter your experience in years:  0\n"
     ]
    },
    {
     "name": "stdout",
     "output_type": "stream",
     "text": [
      "22\n"
     ]
    }
   ],
   "source": [
    "#inbuilt library to work with date and time\n",
    "import datetime\n",
    "\n",
    "# function is developed to capture the dob and compare it with the default format \n",
    "def ageCalculation(date):\n",
    "    try:\n",
    "        dob = datetime.datetime.strptime(date, '%d-%m-%Y')\n",
    "        # calculate age by finding the difference of current year and dob year and return it\n",
    "        age = datetime.datetime.now().year - dob.year\n",
    "        return age\n",
    "    except ValueError:\n",
    "        # if the format doesnt match then this statement will get printed\n",
    "        return \"Invalid date format.\"\n",
    "\n",
    "def main():\n",
    "    # execution starts with main function,here we take the user input- name,date of birth,experience\n",
    "    name = input(\"Enter your name: \")\n",
    "    date= input(\"Enter your date of birth (DD-MM-YYYY): \")\n",
    "    experience = input(\"Enter your experience in years: \")\n",
    "\n",
    "    # call the ageCalculation function to find the age and print the same\n",
    "    age = ageCalculation(date)\n",
    "    print(age)\n",
    "main()\n"
   ]
  },
  {
   "cell_type": "code",
   "execution_count": null,
   "metadata": {},
   "outputs": [],
   "source": []
  },
  {
   "cell_type": "code",
   "execution_count": null,
   "metadata": {},
   "outputs": [],
   "source": []
  }
 ],
 "metadata": {
  "kernelspec": {
   "display_name": "Python 3",
   "language": "python",
   "name": "python3"
  },
  "language_info": {
   "codemirror_mode": {
    "name": "ipython",
    "version": 3
   },
   "file_extension": ".py",
   "mimetype": "text/x-python",
   "name": "python",
   "nbconvert_exporter": "python",
   "pygments_lexer": "ipython3",
   "version": "3.7.6"
  }
 },
 "nbformat": 4,
 "nbformat_minor": 4
}
