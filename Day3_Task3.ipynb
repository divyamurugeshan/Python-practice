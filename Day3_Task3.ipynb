{
 "cells": [
  {
   "cell_type": "code",
   "execution_count": 16,
   "metadata": {},
   "outputs": [
    {
     "name": "stdin",
     "output_type": "stream",
     "text": [
      "Enter your name:  divya\n",
      "Enter your date of birth (DD-MM-YYYY):  08-09-2001\n",
      "Enter your experience in years:  0\n"
     ]
    },
    {
     "name": "stdout",
     "output_type": "stream",
     "text": [
      "22\n"
     ]
    }
   ],
   "source": [
    "import datetime\n",
    "\n",
    "def calculate_age(date_of_birth):\n",
    "    try:\n",
    "        dob = datetime.datetime.strptime(date_of_birth, '%d-%m-%Y')\n",
    "        age = datetime.datetime.now().year - dob.year\n",
    "        return age\n",
    "    except ValueError:\n",
    "        return \"Invalid date format.\"\n",
    "\n",
    "def main():\n",
    "    name = input(\"Enter your name: \")\n",
    "    date_of_birth = input(\"Enter your date of birth (DD-MM-YYYY): \")\n",
    "    experience = input(\"Enter your experience in years: \")\n",
    "\n",
    "    age = calculate_age(date_of_birth)\n",
    "    print(age)\n",
    "main()\n"
   ]
  },
  {
   "cell_type": "code",
   "execution_count": null,
   "metadata": {},
   "outputs": [],
   "source": []
  },
  {
   "cell_type": "code",
   "execution_count": null,
   "metadata": {},
   "outputs": [],
   "source": []
  }
 ],
 "metadata": {
  "kernelspec": {
   "display_name": "Python 3",
   "language": "python",
   "name": "python3"
  },
  "language_info": {
   "codemirror_mode": {
    "name": "ipython",
    "version": 3
   },
   "file_extension": ".py",
   "mimetype": "text/x-python",
   "name": "python",
   "nbconvert_exporter": "python",
   "pygments_lexer": "ipython3",
   "version": "3.7.6"
  }
 },
 "nbformat": 4,
 "nbformat_minor": 4
}
