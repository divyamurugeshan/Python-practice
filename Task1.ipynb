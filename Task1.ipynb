{
  "nbformat": 4,
  "nbformat_minor": 0,
  "metadata": {
    "colab": {
      "provenance": []
    },
    "kernelspec": {
      "name": "python3",
      "display_name": "Python 3"
    },
    "language_info": {
      "name": "python"
    }
  },
  "cells": [
    {
      "cell_type": "code",
      "execution_count": 5,
      "metadata": {
        "id": "WK_NaFxs0Oan",
        "colab": {
          "base_uri": "https://localhost:8080/"
        },
        "outputId": "656cfe28-727d-4607-db3a-85cc1b7b2f93"
      },
      "outputs": [
        {
          "output_type": "stream",
          "name": "stdout",
          "text": [
            "{'countries': ['Australia', 'Brazil', 'China', 'Denmark', 'Egypt'], 'capitals': ['Canberra', 'Brasilia', 'Beijing', 'Copenhagen', 'Cairo'], 'currencies': ('AUD', 'BRL', 'Yuan', 'DKK', 'EGP'), 'country_name_lengths': {9, 5, 6, 7}}\n"
          ]
        }
      ],
      "source": [
        "#Creating Empty Dictionary\n",
        "newdict= {}\n",
        "#Creating a list for countries\n",
        "list_countries = [\"Australia\", \"Brazil\", \"China\", \"Denmark\", \"Egypt\"]\n",
        "#Creating a list for capitals of the respective countries\n",
        "list_capitals = [\"Canberra\", \"Brasilia\", \"Beijing\", \"Copenhagen\", \"Cairo\"]\n",
        "#Creating a tupple of currencies with respect to countries\n",
        "tuple_currencies = (\"AUD\", \"BRL\", \"Yuan\", \"DKK\", \"EGP\")\n",
        "#Creating a set of the length of countries for the names in the countries list\n",
        "set_country_lengths = {len(country) for country in list_countries}\n",
        "\n",
        "#Creating Empty Dictionary for countries,capitals,currencies and country lengths\n",
        "newdict[\"countries\"] = list_countries\n",
        "newdict[\"capitals\"] = list_capitals\n",
        "newdict[\"currencies\"] = tuple_currencies\n",
        "newdict[\"country_name_lengths\"] = set_country_lengths\n",
        "\n",
        "#Result is printed in the form of dictionary\n",
        "print(newdict)\n"
      ]
    }
  ]
}