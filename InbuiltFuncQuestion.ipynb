{
 "cells": [
  {
   "cell_type": "code",
   "execution_count": 5,
   "metadata": {},
   "outputs": [
    {
     "name": "stdout",
     "output_type": "stream",
     "text": [
      "2002\n",
      "2004\n",
      "2006\n",
      "2008\n",
      "2011\n",
      "2013\n",
      "2015\n",
      "2017\n",
      "2019\n",
      "2020\n",
      "2022\n"
     ]
    }
   ],
   "source": [
    "#inbuilt library in python to work with date and time\n",
    "import datetime\n",
    "\n",
    "# Defining birth year\n",
    "birth = 2001  \n",
    "\n",
    "# calculating present year\n",
    "present = datetime.datetime.now().year # extracts the current year\n",
    "\n",
    "# Function to calculate the sum of digits in a number\n",
    "def SumOfDigits(number):\n",
    "    return sum(int(digit) for digit in str(number))\n",
    "\n",
    "# Iterate the years and print even years\n",
    "for year in range(birth, present + 1):\n",
    "    if SumOfDigits(year) % 2 == 0:\n",
    "        print(year)\n"
   ]
  },
  {
   "cell_type": "code",
   "execution_count": null,
   "metadata": {},
   "outputs": [],
   "source": []
  }
 ],
 "metadata": {
  "kernelspec": {
   "display_name": "Python 3",
   "language": "python",
   "name": "python3"
  },
  "language_info": {
   "codemirror_mode": {
    "name": "ipython",
    "version": 3
   },
   "file_extension": ".py",
   "mimetype": "text/x-python",
   "name": "python",
   "nbconvert_exporter": "python",
   "pygments_lexer": "ipython3",
   "version": "3.7.6"
  }
 },
 "nbformat": 4,
 "nbformat_minor": 4
}
